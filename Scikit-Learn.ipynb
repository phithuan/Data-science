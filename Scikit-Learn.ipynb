{
 "cells": [
  {
   "cell_type": "markdown",
   "id": "4888fbf1",
   "metadata": {},
   "source": [
    "# Data Preprocessing(tiền sử lý dữ liệu)\n",
    "* là quá trình chuẩn bị và biến đổi dữ liệu thô để làm cho chúng phù hợp với mô hình học máy. Quá trình này bao gồm các bước như:\n",
    "\n",
    "* Tách dữ liệu: tách dữ liệu thành tập huấn luyện và tập kiểm tra hoặc tập validation.\n",
    "\n",
    "* Xử lý các giá trị thiếu: kiểm tra và xử lý các giá trị NaN hoặc null trong dữ liệu.\n",
    "\n",
    "* Chuẩn hóa dữ liệu: biến đổi các giá trị của các tính năng thành các giá trị nằm trong khoảng cụ thể, như chuẩn hóa Min-Max, chuẩn hóa z-score...\n",
    "\n",
    "* Biến đổi dữ liệu: tạo ra các tính năng mới từ dữ liệu hiện có, như biến đổi logarit, biến đổi phân loại...\n",
    "\n",
    "* Loại bỏ tính năng không cần thiết: loại bỏ các tính năng không cần thiết hoặc không có giá trị cho mô hình.\n",
    "\n",
    "* Mã hóa dữ liệu: mã hóa các giá trị phân loại thành các số nguyên hoặc các vector đặc trưng.\n",
    "\n",
    "* Các bước này giúp cho dữ liệu trở nên đầy đủ, chính xác và phù hợp với mô hình học máy."
   ]
  },
  {
   "cell_type": "code",
   "execution_count": 1,
   "id": "765a964d",
   "metadata": {},
   "outputs": [],
   "source": [
    "import numpy as np\n",
    "import matplotlib.pyplot as plt\n",
    "import seaborn as sns\n",
    "import pandas as pd"
   ]
  },
  {
   "cell_type": "code",
   "execution_count": 2,
   "id": "c21324a4",
   "metadata": {},
   "outputs": [],
   "source": [
    "dataset = pd.read_csv('Data-for-Scikit-Learn.csv')"
   ]
  },
  {
   "cell_type": "code",
   "execution_count": 3,
   "id": "1afa09e0",
   "metadata": {},
   "outputs": [
    {
     "name": "stdout",
     "output_type": "stream",
     "text": [
      "<class 'pandas.core.frame.DataFrame'>\n",
      "RangeIndex: 10 entries, 0 to 9\n",
      "Data columns (total 4 columns):\n",
      " #   Column     Non-Null Count  Dtype  \n",
      "---  ------     --------------  -----  \n",
      " 0   Country    10 non-null     object \n",
      " 1   Age        9 non-null      float64\n",
      " 2   Salary     9 non-null      float64\n",
      " 3   Purchased  10 non-null     object \n",
      "dtypes: float64(2), object(2)\n",
      "memory usage: 448.0+ bytes\n"
     ]
    }
   ],
   "source": [
    "dataset.info()"
   ]
  },
  {
   "cell_type": "code",
   "execution_count": 11,
   "id": "64608a6e",
   "metadata": {},
   "outputs": [
    {
     "name": "stdout",
     "output_type": "stream",
     "text": [
      "   Country   Age   Salary Purchased\n",
      "0   France  44.0  72000.0        No\n",
      "1    Spain  27.0  48000.0       Yes\n",
      "2  Germany  30.0  54000.0        No\n",
      "3    Spain  38.0  61000.0        No\n",
      "4  Germany  40.0      NaN       Yes\n",
      "5   France  35.0  58000.0       Yes\n",
      "6    Spain   NaN  52000.0        No\n",
      "7   France  48.0  79000.0       Yes\n",
      "8  Germany  50.0  83000.0        No\n",
      "9   France  37.0  67000.0       Yes\n"
     ]
    }
   ],
   "source": [
    "print(dataset)\n",
    "#print(X)\n",
    "#print(y)"
   ]
  },
  {
   "cell_type": "markdown",
   "id": "f1f6559b",
   "metadata": {},
   "source": [
    "# Data Imputation (Missing Data Replacement)\n",
    "* Datasets often have missing values and this can cause problems for machine learning algorithms. It is considered good practise to identify and replace missing values in each column of your dateset prior to performing predictive modelling. This method of missing data replacement is referred to as data imputation.\n",
    "* Data imputation là quá trình điền giá trị vào các vị trí dữ liệu bị thiếu (missing values) trong tập dữ liệu. Trong thực tế, các tập dữ liệu thường chứa các giá trị bị thiếu do nhiều nguyên nhân khác nhau như lỗi do đo đạc, dữ liệu không được cập nhật đầy đủ, hoặc do sự thiếu sót của người dùng trong việc cung cấp thông tin.\n",
    "\n",
    "* Việc xử lý dữ liệu bị thiếu là một bước quan trọng trong việc tiền xử lý dữ liệu (data preprocessing), vì dữ liệu bị thiếu có thể ảnh hưởng đến chất lượng của mô hình học máy hoặc khai phá dữ liệu (data mining) được xây dựng từ tập dữ liệu đó.\n",
    "\n",
    "* Các phương pháp data imputation thường được sử dụng bao gồm điền giá trị trung bình, giá trị mode (giá trị xuất hiện nhiều nhất), giá trị median (giá trị ở giữa), hoặc sử dụng các mô hình học máy để dự đoán giá trị bị thiếu dựa trên các giá trị khác trong tập dữ liệu."
   ]
  },
  {
   "cell_type": "code",
   "execution_count": 12,
   "id": "969417c8",
   "metadata": {},
   "outputs": [
    {
     "name": "stdout",
     "output_type": "stream",
     "text": [
      ">0,  missing entries: 0, percentage 0.00\n",
      ">1,  missing entries: 1, percentage 10.00\n",
      ">2,  missing entries: 1, percentage 10.00\n",
      ">3,  missing entries: 0, percentage 0.00\n"
     ]
    }
   ],
   "source": [
    "for i in range(len(dataset.columns)):\n",
    "    missing_data = dataset[dataset.columns[i]].isna().sum()\n",
    "    perc = missing_data / len(dataset) * 100 #(missing_data/tổng hàng * 100 để làm tròn lên 100)\n",
    "    print('>%d,  missing entries: %d, percentage %.2f' % (i, missing_data, perc))\n"
   ]
  },
  {
   "cell_type": "code",
   "execution_count": 13,
   "id": "5d56e5b5",
   "metadata": {},
   "outputs": [
    {
     "name": "stdout",
     "output_type": "stream",
     "text": [
      "Column: Country has 0.0%\n",
      "Column: Age has 10.0%\n",
      "Column: Salary has 10.0%\n",
      "Column: Purchased has 0.0%\n"
     ]
    }
   ],
   "source": [
    "for i in dataset.columns:\n",
    "    missing_data = dataset[i].isna().sum() #isna() được sử dụng để kiểm tra giá trị NaN (not a number) trong dataframe.\n",
    "    perc = missing_data / len(dataset) * 100 #(missing_data/tổng hàng * 100 để làm tròn lên 100)\n",
    "    print(f\"Column: {i} has {perc}%\")"
   ]
  },
  {
   "cell_type": "code",
   "execution_count": 14,
   "id": "fec94cc4",
   "metadata": {},
   "outputs": [
    {
     "name": "stdout",
     "output_type": "stream",
     "text": [
      "0    False\n",
      "1    False\n",
      "2    False\n",
      "3    False\n",
      "4    False\n",
      "5    False\n",
      "6    False\n",
      "7    False\n",
      "8    False\n",
      "9    False\n",
      "Name: Country, dtype: bool\n",
      "0    False\n",
      "1    False\n",
      "2    False\n",
      "3    False\n",
      "4    False\n",
      "5    False\n",
      "6     True\n",
      "7    False\n",
      "8    False\n",
      "9    False\n",
      "Name: Age, dtype: bool\n",
      "0    False\n",
      "1    False\n",
      "2    False\n",
      "3    False\n",
      "4     True\n",
      "5    False\n",
      "6    False\n",
      "7    False\n",
      "8    False\n",
      "9    False\n",
      "Name: Salary, dtype: bool\n",
      "0    False\n",
      "1    False\n",
      "2    False\n",
      "3    False\n",
      "4    False\n",
      "5    False\n",
      "6    False\n",
      "7    False\n",
      "8    False\n",
      "9    False\n",
      "Name: Purchased, dtype: bool\n"
     ]
    }
   ],
   "source": [
    "# test\n",
    "for i in range(len(dataset.columns)):\n",
    "    print(dataset[dataset.columns[i]].isna())"
   ]
  },
  {
   "cell_type": "code",
   "execution_count": 15,
   "id": "3bbaff07",
   "metadata": {},
   "outputs": [
    {
     "data": {
      "text/plain": [
       "<Axes: >"
      ]
     },
     "execution_count": 15,
     "metadata": {},
     "output_type": "execute_result"
    },
    {
     "data": {
      "image/png": "[encoded data removed]",
      "text/plain": [
       "<Figure size 800x500 with 2 Axes>"
      ]
     },
     "metadata": {},
     "output_type": "display_data"
    }
   ],
   "source": [
    "fix, ax = plt.subplots(figsize=(8,5))\n",
    "sns.heatmap(dataset.isna()) #isna() được sử dụng để kiểm tra giá trị NaN (not a number) trong dataframe."
   ]
  },
  {
   "cell_type": "code",
   "execution_count": 16,
   "id": "a7ee4b71",
   "metadata": {},
   "outputs": [
    {
     "data": {
      "text/plain": [
       "<Axes: >"
      ]
     },
     "execution_count": 16,
     "metadata": {},
     "output_type": "execute_result"
    },
    {
     "data": {
      "image/png": "[encoded data removed]",
      "text/plain": [
       "<Figure size 800x500 with 1 Axes>"
      ]
     },
     "metadata": {},
     "output_type": "display_data"
    }
   ],
   "source": [
    "# sao khi chỉnh lại xíu \n",
    "fix, ax = plt.subplots(figsize=(8,5))\n",
    "sns.heatmap(dataset.isna(), cmap=\"Blues\",yticklabels=False, cbar=False, )"
   ]
  },
  {
   "cell_type": "code",
   "execution_count": 4,
   "id": "c0eb2416",
   "metadata": {},
   "outputs": [
    {
     "data": {
      "text/html": [
       "<div>\n",
       "<style scoped>\n",
       "    .dataframe tbody tr th:only-of-type {\n",
       "        vertical-align: middle;\n",
       "    }\n",
       "\n",
       "    .dataframe tbody tr th {\n",
       "        vertical-align: top;\n",
       "    }\n",
       "\n",
       "    .dataframe thead th {\n",
       "        text-align: right;\n",
       "    }\n",
       "</style>\n",
       "<table border=\"1\" class=\"dataframe\">\n",
       "  <thead>\n",
       "    <tr style=\"text-align: right;\">\n",
       "      <th></th>\n",
       "      <th>Country</th>\n",
       "      <th>Age</th>\n",
       "      <th>Salary</th>\n",
       "      <th>Purchased</th>\n",
       "    </tr>\n",
       "  </thead>\n",
       "  <tbody>\n",
       "    <tr>\n",
       "      <th>0</th>\n",
       "      <td>France</td>\n",
       "      <td>44.0</td>\n",
       "      <td>72000.0</td>\n",
       "      <td>No</td>\n",
       "    </tr>\n",
       "    <tr>\n",
       "      <th>1</th>\n",
       "      <td>Spain</td>\n",
       "      <td>27.0</td>\n",
       "      <td>48000.0</td>\n",
       "      <td>Yes</td>\n",
       "    </tr>\n",
       "    <tr>\n",
       "      <th>2</th>\n",
       "      <td>Germany</td>\n",
       "      <td>30.0</td>\n",
       "      <td>54000.0</td>\n",
       "      <td>No</td>\n",
       "    </tr>\n",
       "    <tr>\n",
       "      <th>3</th>\n",
       "      <td>Spain</td>\n",
       "      <td>38.0</td>\n",
       "      <td>61000.0</td>\n",
       "      <td>No</td>\n",
       "    </tr>\n",
       "    <tr>\n",
       "      <th>4</th>\n",
       "      <td>Germany</td>\n",
       "      <td>40.0</td>\n",
       "      <td>NaN</td>\n",
       "      <td>Yes</td>\n",
       "    </tr>\n",
       "    <tr>\n",
       "      <th>5</th>\n",
       "      <td>France</td>\n",
       "      <td>35.0</td>\n",
       "      <td>58000.0</td>\n",
       "      <td>Yes</td>\n",
       "    </tr>\n",
       "    <tr>\n",
       "      <th>6</th>\n",
       "      <td>Spain</td>\n",
       "      <td>NaN</td>\n",
       "      <td>52000.0</td>\n",
       "      <td>No</td>\n",
       "    </tr>\n",
       "    <tr>\n",
       "      <th>7</th>\n",
       "      <td>France</td>\n",
       "      <td>48.0</td>\n",
       "      <td>79000.0</td>\n",
       "      <td>Yes</td>\n",
       "    </tr>\n",
       "    <tr>\n",
       "      <th>8</th>\n",
       "      <td>Germany</td>\n",
       "      <td>50.0</td>\n",
       "      <td>83000.0</td>\n",
       "      <td>No</td>\n",
       "    </tr>\n",
       "    <tr>\n",
       "      <th>9</th>\n",
       "      <td>France</td>\n",
       "      <td>37.0</td>\n",
       "      <td>67000.0</td>\n",
       "      <td>Yes</td>\n",
       "    </tr>\n",
       "  </tbody>\n",
       "</table>\n",
       "</div>"
      ],
      "text/plain": [
       "   Country   Age   Salary Purchased\n",
       "0   France  44.0  72000.0        No\n",
       "1    Spain  27.0  48000.0       Yes\n",
       "2  Germany  30.0  54000.0        No\n",
       "3    Spain  38.0  61000.0        No\n",
       "4  Germany  40.0      NaN       Yes\n",
       "5   France  35.0  58000.0       Yes\n",
       "6    Spain   NaN  52000.0        No\n",
       "7   France  48.0  79000.0       Yes\n",
       "8  Germany  50.0  83000.0        No\n",
       "9   France  37.0  67000.0       Yes"
      ]
     },
     "execution_count": 4,
     "metadata": {},
     "output_type": "execute_result"
    }
   ],
   "source": [
    " dataset.head(10)"
   ]
  },
  {
   "cell_type": "code",
   "execution_count": 7,
   "id": "c4cffd51",
   "metadata": {},
   "outputs": [],
   "source": [
    "#convert the dataframe into a numpy array by calling values on my dataframe (not necessary), but a habit I prefer\n",
    "X= dataset.iloc[:, :-1].values #lấy tất cả hàng còn cột bỏ cột cuối\n",
    "y = dataset.iloc[:, -1].values # lấy tất cà hàng và chỉ lấy cột cuối\n",
    "\n",
    "#values là để chuyển sang dạng numpy"
   ]
  },
  {
   "cell_type": "code",
   "execution_count": 8,
   "id": "a2ef1475",
   "metadata": {},
   "outputs": [
    {
     "data": {
      "text/plain": [
       "array([['France', 44.0, 72000.0],\n",
       "       ['Spain', 27.0, 48000.0],\n",
       "       ['Germany', 30.0, 54000.0],\n",
       "       ['Spain', 38.0, 61000.0],\n",
       "       ['Germany', 40.0, nan],\n",
       "       ['France', 35.0, 58000.0],\n",
       "       ['Spain', nan, 52000.0],\n",
       "       ['France', 48.0, 79000.0],\n",
       "       ['Germany', 50.0, 83000.0],\n",
       "       ['France', 37.0, 67000.0]], dtype=object)"
      ]
     },
     "execution_count": 8,
     "metadata": {},
     "output_type": "execute_result"
    }
   ],
   "source": [
    "X"
   ]
  },
  {
   "cell_type": "code",
   "execution_count": 20,
   "id": "c3ae5900",
   "metadata": {},
   "outputs": [
    {
     "data": {
      "text/plain": [
       "array(['No', 'Yes', 'No', 'No', 'Yes', 'Yes', 'No', 'Yes', 'No', 'Yes'],\n",
       "      dtype=object)"
      ]
     },
     "execution_count": 20,
     "metadata": {},
     "output_type": "execute_result"
    }
   ],
   "source": [
    "y"
   ]
  },
  {
   "cell_type": "code",
   "execution_count": 21,
   "id": "f12dc789",
   "metadata": {},
   "outputs": [],
   "source": [
    "from sklearn.impute import SimpleImputer\n",
    "\n",
    "#Create an instance of Class SimpleImputer: np.nan is the empty value in the dataset\n",
    "imputer = SimpleImputer(missing_values=np.nan, strategy='mean')\n",
    "\n",
    "#Replace missing value from numerical Col 1 'Age', Col 2 'Salary'\n",
    "#fit on the dataset to calculate the statistic for each column\n",
    "imputer.fit(X[:, 1:3]) # 1:3 là chỉ lấy Age và Salary\n",
    "\n",
    "#The fit imputer is then applied to the dataset \n",
    "# to create a copy of the dataset with all the missing values \n",
    "# for each column replaced with the calculated mean statistic.\n",
    "#transform will replace & return the new updated columns\n",
    "X[:, 1:3] = imputer.transform(X[:, 1:3]) "
   ]
  },
  {
   "cell_type": "code",
   "execution_count": 22,
   "id": "059fc2f6",
   "metadata": {},
   "outputs": [
    {
     "data": {
      "text/plain": [
       "array([['France', 44.0, 72000.0],\n",
       "       ['Spain', 27.0, 48000.0],\n",
       "       ['Germany', 30.0, 54000.0],\n",
       "       ['Spain', 38.0, 61000.0],\n",
       "       ['Germany', 40.0, 63777.77777777778],\n",
       "       ['France', 35.0, 58000.0],\n",
       "       ['Spain', 38.77777777777778, 52000.0],\n",
       "       ['France', 48.0, 79000.0],\n",
       "       ['Germany', 50.0, 83000.0],\n",
       "       ['France', 37.0, 67000.0]], dtype=object)"
      ]
     },
     "execution_count": 22,
     "metadata": {},
     "output_type": "execute_result"
    }
   ],
   "source": [
    "X"
   ]
  },
  {
   "cell_type": "markdown",
   "id": "e62eb840",
   "metadata": {},
   "source": [
    "## Encode Categorical Data"
   ]
  },
  {
   "cell_type": "markdown",
   "id": "2a54157b",
   "metadata": {},
   "source": [
    "### Encode Independent variable (X)"
   ]
  },
  {
   "cell_type": "code",
   "execution_count": 23,
   "id": "e974eb2c",
   "metadata": {},
   "outputs": [],
   "source": [
    "from sklearn.compose import ColumnTransformer\n",
    "from sklearn.preprocessing import OneHotEncoder\n",
    "#transformers: specify what kind of transformation, and which cols\n",
    "#Tuple ('encoder' encoding transformation, instance of Class OneHotEncoder, [col to transform])\n",
    "#remainder =\"passthrough\" > to keep the cols which not be transformed. Otherwise, the remaining cols will not be included \n",
    "ct = ColumnTransformer(transformers=[('encoder', OneHotEncoder(), [0])] , remainder=\"passthrough\" )\n",
    "#fit and transform with input = X\n",
    "#np.array: need to convert output of fit_transform() from matrix to np.array\n",
    "X = np.array(ct.fit_transform(X))\n",
    "\n",
    "\"\"\"Code này sử dụng module ColumnTransformer và OneHotEncoder của thư viện Scikit-learn (sklearn)\n",
    "để chuyển đổi dữ liệu từ dạng dữ liệu không số sang dạng dữ liệu số.\n",
    "\n",
    "Trước khi chuyển đổi dữ liệu, dữ liệu được lưu trữ trong biến X dưới dạng một mảng đa chiều (nhiều hàng và nhiều cột).\n",
    "Cột đầu tiên trong mảng X chứa dữ liệu không số (ví dụ: chuỗi), các cột tiếp theo chứa dữ liệu số.\n",
    "\n",
    "Để chuyển đổi dữ liệu không số thành dạng số, module ColumnTransformer được sử dụng để chỉ định loại\n",
    "chuyển đổi và cột dữ liệu được áp dụng chuyển đổi.\n",
    "\n",
    "Trong đoạn code này, loại chuyển đổi được chỉ định là OneHotEncoder (một loại chuyển đổi phổ biến trong Machine Learning), \n",
    "và cột dữ liệu được áp dụng chuyển đổi là cột đầu tiên của mảng X (cột chứa dữ liệu không số).\n",
    "\n",
    "Sau khi xác định được loại chuyển đổi và cột dữ liệu được áp dụng chuyển đổi,\n",
    "hàm fit_transform() của ColumnTransformer được sử dụng để thực hiện việc chuyển đổi dữ liệu. \n",
    "Kết quả đầu ra của fit_transform() là một ma trận chứa dữ liệu đã được chuyển đổi,\n",
    "và biến X được gán lại với kết quả đầu ra này.\n",
    "\n",
    "Cuối cùng, biến X được chuyển đổi sang dạng mảng NumPy để sử dụng cho các mô hình Machine Learning.\"\"\""
   ]
  },
  {
   "cell_type": "code",
   "execution_count": 26,
   "id": "56db7e0d",
   "metadata": {},
   "outputs": [
    {
     "data": {
      "text/plain": [
       "array([[1.0, 0.0, 0.0, 44.0, 72000.0],\n",
       "       [0.0, 0.0, 1.0, 27.0, 48000.0],\n",
       "       [0.0, 1.0, 0.0, 30.0, 54000.0],\n",
       "       [0.0, 0.0, 1.0, 38.0, 61000.0],\n",
       "       [0.0, 1.0, 0.0, 40.0, 63777.77777777778],\n",
       "       [1.0, 0.0, 0.0, 35.0, 58000.0],\n",
       "       [0.0, 0.0, 1.0, 38.77777777777778, 52000.0],\n",
       "       [1.0, 0.0, 0.0, 48.0, 79000.0],\n",
       "       [0.0, 1.0, 0.0, 50.0, 83000.0],\n",
       "       [1.0, 0.0, 0.0, 37.0, 67000.0]], dtype=object)"
      ]
     },
     "execution_count": 26,
     "metadata": {},
     "output_type": "execute_result"
    }
   ],
   "source": [
    "X"
   ]
  },
  {
   "cell_type": "markdown",
   "id": "be1304da",
   "metadata": {},
   "source": [
    "### Encode Dependent Variable"
   ]
  },
  {
   "cell_type": "code",
   "execution_count": 27,
   "id": "c1bc026b",
   "metadata": {},
   "outputs": [
    {
     "data": {
      "text/plain": [
       "array(['No', 'Yes', 'No', 'No', 'Yes', 'Yes', 'No', 'Yes', 'No', 'Yes'],\n",
       "      dtype=object)"
      ]
     },
     "execution_count": 27,
     "metadata": {},
     "output_type": "execute_result"
    }
   ],
   "source": [
    "y"
   ]
  },
  {
   "cell_type": "code",
   "execution_count": 28,
   "id": "7502de55",
   "metadata": {},
   "outputs": [],
   "source": [
    "from sklearn.preprocessing import LabelEncoder\n",
    "le = LabelEncoder()\n",
    "#output of fit_transform of Label Encoder is already a Numpy Array\n",
    "y = le.fit_transform(y)"
   ]
  },
  {
   "cell_type": "code",
   "execution_count": 29,
   "id": "ea00829f",
   "metadata": {},
   "outputs": [
    {
     "data": {
      "text/plain": [
       "array([0, 1, 0, 0, 1, 1, 0, 1, 0, 1])"
      ]
     },
     "execution_count": 29,
     "metadata": {},
     "output_type": "execute_result"
    }
   ],
   "source": [
    "y"
   ]
  },
  {
   "cell_type": "markdown",
   "id": "4ec58b3b",
   "metadata": {},
   "source": [
    "## Splitting the dataset (X = data, y = output) into the Training set and Test set"
   ]
  },
  {
   "cell_type": "code",
   "execution_count": 31,
   "id": "1db49d38",
   "metadata": {},
   "outputs": [],
   "source": [
    "from sklearn.model_selection import train_test_split\n",
    "np.random.seed(42)\n",
    "X_train, X_test, y_train, y_test = train_test_split(X, y, test_size = 0.2)\n",
    "#X_train gồm 80% dữ liệu x - y_train nhãn tương ứng\n",
    "#X_test gồm 20% dữ liệu x - y_test nhãn tương ứng\n"
   ]
  },
  {
   "cell_type": "code",
   "execution_count": 32,
   "id": "4abf3586",
   "metadata": {},
   "outputs": [
    {
     "data": {
      "text/plain": [
       "array([[0.0, 0.0, 1.0, 38.77777777777778, 52000.0],\n",
       "       [0.0, 1.0, 0.0, 40.0, 63777.77777777778],\n",
       "       [1.0, 0.0, 0.0, 44.0, 72000.0],\n",
       "       [0.0, 0.0, 1.0, 38.0, 61000.0],\n",
       "       [0.0, 0.0, 1.0, 27.0, 48000.0],\n",
       "       [1.0, 0.0, 0.0, 48.0, 79000.0],\n",
       "       [0.0, 1.0, 0.0, 50.0, 83000.0],\n",
       "       [1.0, 0.0, 0.0, 35.0, 58000.0]], dtype=object)"
      ]
     },
     "execution_count": 32,
     "metadata": {},
     "output_type": "execute_result"
    }
   ],
   "source": [
    "X_train"
   ]
  },
  {
   "cell_type": "code",
   "execution_count": 33,
   "id": "1b1791d9",
   "metadata": {},
   "outputs": [
    {
     "data": {
      "text/plain": [
       "array([0, 1, 0, 0, 1, 1, 0, 1])"
      ]
     },
     "execution_count": 33,
     "metadata": {},
     "output_type": "execute_result"
    }
   ],
   "source": [
    "y_train"
   ]
  },
  {
   "cell_type": "code",
   "execution_count": 34,
   "id": "408112e2",
   "metadata": {},
   "outputs": [
    {
     "data": {
      "text/plain": [
       "array([[0.0, 1.0, 0.0, 30.0, 54000.0],\n",
       "       [1.0, 0.0, 0.0, 37.0, 67000.0]], dtype=object)"
      ]
     },
     "execution_count": 34,
     "metadata": {},
     "output_type": "execute_result"
    }
   ],
   "source": [
    "X_test"
   ]
  },
  {
   "cell_type": "code",
   "execution_count": 35,
   "id": "7c6d8271",
   "metadata": {},
   "outputs": [
    {
     "data": {
      "text/plain": [
       "array([0, 1])"
      ]
     },
     "execution_count": 35,
     "metadata": {},
     "output_type": "execute_result"
    }
   ],
   "source": [
    "y_test"
   ]
  },
  {
   "cell_type": "code",
   "execution_count": 36,
   "id": "29da18f6",
   "metadata": {},
   "outputs": [
    {
     "data": {
      "text/html": [
       "<div>\n",
       "<style scoped>\n",
       "    .dataframe tbody tr th:only-of-type {\n",
       "        vertical-align: middle;\n",
       "    }\n",
       "\n",
       "    .dataframe tbody tr th {\n",
       "        vertical-align: top;\n",
       "    }\n",
       "\n",
       "    .dataframe thead th {\n",
       "        text-align: right;\n",
       "    }\n",
       "</style>\n",
       "<table border=\"1\" class=\"dataframe\">\n",
       "  <thead>\n",
       "    <tr style=\"text-align: right;\">\n",
       "      <th></th>\n",
       "      <th>Country</th>\n",
       "      <th>Age</th>\n",
       "      <th>Salary</th>\n",
       "      <th>Purchased</th>\n",
       "    </tr>\n",
       "  </thead>\n",
       "  <tbody>\n",
       "    <tr>\n",
       "      <th>0</th>\n",
       "      <td>France</td>\n",
       "      <td>44.0</td>\n",
       "      <td>72000.0</td>\n",
       "      <td>No</td>\n",
       "    </tr>\n",
       "    <tr>\n",
       "      <th>1</th>\n",
       "      <td>Spain</td>\n",
       "      <td>27.0</td>\n",
       "      <td>48000.0</td>\n",
       "      <td>Yes</td>\n",
       "    </tr>\n",
       "    <tr>\n",
       "      <th>2</th>\n",
       "      <td>Germany</td>\n",
       "      <td>30.0</td>\n",
       "      <td>54000.0</td>\n",
       "      <td>No</td>\n",
       "    </tr>\n",
       "    <tr>\n",
       "      <th>3</th>\n",
       "      <td>Spain</td>\n",
       "      <td>38.0</td>\n",
       "      <td>61000.0</td>\n",
       "      <td>No</td>\n",
       "    </tr>\n",
       "    <tr>\n",
       "      <th>4</th>\n",
       "      <td>Germany</td>\n",
       "      <td>40.0</td>\n",
       "      <td>NaN</td>\n",
       "      <td>Yes</td>\n",
       "    </tr>\n",
       "    <tr>\n",
       "      <th>5</th>\n",
       "      <td>France</td>\n",
       "      <td>35.0</td>\n",
       "      <td>58000.0</td>\n",
       "      <td>Yes</td>\n",
       "    </tr>\n",
       "    <tr>\n",
       "      <th>6</th>\n",
       "      <td>Spain</td>\n",
       "      <td>NaN</td>\n",
       "      <td>52000.0</td>\n",
       "      <td>No</td>\n",
       "    </tr>\n",
       "    <tr>\n",
       "      <th>7</th>\n",
       "      <td>France</td>\n",
       "      <td>48.0</td>\n",
       "      <td>79000.0</td>\n",
       "      <td>Yes</td>\n",
       "    </tr>\n",
       "    <tr>\n",
       "      <th>8</th>\n",
       "      <td>Germany</td>\n",
       "      <td>50.0</td>\n",
       "      <td>83000.0</td>\n",
       "      <td>No</td>\n",
       "    </tr>\n",
       "    <tr>\n",
       "      <th>9</th>\n",
       "      <td>France</td>\n",
       "      <td>37.0</td>\n",
       "      <td>67000.0</td>\n",
       "      <td>Yes</td>\n",
       "    </tr>\n",
       "  </tbody>\n",
       "</table>\n",
       "</div>"
      ],
      "text/plain": [
       "   Country   Age   Salary Purchased\n",
       "0   France  44.0  72000.0        No\n",
       "1    Spain  27.0  48000.0       Yes\n",
       "2  Germany  30.0  54000.0        No\n",
       "3    Spain  38.0  61000.0        No\n",
       "4  Germany  40.0      NaN       Yes\n",
       "5   France  35.0  58000.0       Yes\n",
       "6    Spain   NaN  52000.0        No\n",
       "7   France  48.0  79000.0       Yes\n",
       "8  Germany  50.0  83000.0        No\n",
       "9   France  37.0  67000.0       Yes"
      ]
     },
     "execution_count": 36,
     "metadata": {},
     "output_type": "execute_result"
    }
   ],
   "source": [
    "dataset"
   ]
  },
  {
   "cell_type": "markdown",
   "id": "3075bc2a",
   "metadata": {},
   "source": [
    "## Feature Scaling"
   ]
  },
  {
   "cell_type": "code",
   "execution_count": 37,
   "id": "d1633177",
   "metadata": {},
   "outputs": [],
   "source": [
    "from sklearn.preprocessing import StandardScaler\n",
    "sc = StandardScaler()\n",
    "X_train[:,3:] = sc.fit_transform(X_train[:,3:])\n",
    "#only use Transform to use the SAME scaler as the Training Set\n",
    "X_test[:,3:] = sc.transform(X_test[:,3:])\n",
    "\n",
    "\n",
    "\"\"\"sc = StandardScaler(): Khởi tạo một StandardScaler object.\n",
    "X_train[:,3:] = sc.fit_transform(X_train[:,3:]): Dùng fit_transform method của StandardScaler để thực hiện chuẩn hoá cho các giá trị từ cột 3 trở đi của tập dữ liệu huấn luyện X_train. Trong đó:\n",
    "sc.fit_transform(): Chạy trên tập dữ liệu huấn luyện để tính toán giá trị trung bình và độ lệch chuẩn để chuẩn hoá dữ liệu, và thực hiện chuẩn hoá luôn.\n",
    "X_train[:,3:]: Lấy các cột từ cột thứ 3 đến hết của X_train.\n",
    "X_test[:,3:] = sc.transform(X_test[:,3:]): Dùng transform method của StandardScaler để thực hiện chuẩn hoá cho các giá trị từ cột 3 trở đi của tập dữ liệu kiểm tra X_test. Trong đó:\n",
    "sc.transform(): Sử dụng giá trị trung bình và độ lệch chuẩn đã được tính toán trên tập dữ liệu huấn luyện để chuẩn hoá dữ liệu, và thực hiện chuẩn hoá luôn.\n",
    "X_test[:,3:]: Lấy các cột từ cột thứ 3 đến hết của X_test. Chú ý rằng, chỉ sử dụng method transform mà không dùng fit để tính toán giá trị trung bình và độ lệch chuẩn mới là cách đảm bảo rằng tập kiểm tra được chuẩn hoá theo cùng một chuẩn với tập huấn luyện.\"\"\""
   ]
  },
  {
   "cell_type": "code",
   "execution_count": 38,
   "id": "9869fcc4",
   "metadata": {},
   "outputs": [
    {
     "data": {
      "text/plain": [
       "array([[0.0, 0.0, 1.0, -0.19159184384578545, -1.0781259408412425],\n",
       "       [0.0, 1.0, 0.0, -0.014117293757057777, -0.07013167641635372],\n",
       "       [1.0, 0.0, 0.0, 0.566708506533324, 0.633562432710455],\n",
       "       [0.0, 0.0, 1.0, -0.30453019390224867, -0.30786617274297867],\n",
       "       [0.0, 0.0, 1.0, -1.9018011447007988, -1.420463615551582],\n",
       "       [1.0, 0.0, 0.0, 1.1475343068237058, 1.232653363453549],\n",
       "       [0.0, 1.0, 0.0, 1.4379472069688968, 1.5749910381638885],\n",
       "       [1.0, 0.0, 0.0, -0.7401495441200351, -0.5646194287757332]],\n",
       "      dtype=object)"
      ]
     },
     "execution_count": 38,
     "metadata": {},
     "output_type": "execute_result"
    }
   ],
   "source": [
    "X_train"
   ]
  },
  {
   "cell_type": "code",
   "execution_count": 39,
   "id": "370ff115",
   "metadata": {},
   "outputs": [
    {
     "data": {
      "text/plain": [
       "array([[0.0, 1.0, 0.0, -1.4661817944830124, -0.9069571034860727],\n",
       "       [1.0, 0.0, 0.0, -0.44973664397484414, 0.2056403393225306]],\n",
       "      dtype=object)"
      ]
     },
     "execution_count": 39,
     "metadata": {},
     "output_type": "execute_result"
    }
   ],
   "source": [
    "X_test"
   ]
  },
  {
   "cell_type": "markdown",
   "id": "a72876d2",
   "metadata": {},
   "source": [
    "# Training Machine Learning Model\n"
   ]
  },
  {
   "cell_type": "markdown",
   "id": "993becd2",
   "metadata": {},
   "source": [
    "* Goal: It is your job to predict the sales price for each house. For each Id in the test set, you must predict the value of the SalePrice variable. "
   ]
  },
  {
   "cell_type": "code",
   "execution_count": 1,
   "id": "f2f41edf",
   "metadata": {},
   "outputs": [],
   "source": [
    "import numpy as np\n",
    "import pandas as pd"
   ]
  },
  {
   "cell_type": "code",
   "execution_count": 2,
   "id": "b46618b8",
   "metadata": {},
   "outputs": [
    {
     "data": {
      "text/html": [
       "<div>\n",
       "<style scoped>\n",
       "    .dataframe tbody tr th:only-of-type {\n",
       "        vertical-align: middle;\n",
       "    }\n",
       "\n",
       "    .dataframe tbody tr th {\n",
       "        vertical-align: top;\n",
       "    }\n",
       "\n",
       "    .dataframe thead th {\n",
       "        text-align: right;\n",
       "    }\n",
       "</style>\n",
       "<table border=\"1\" class=\"dataframe\">\n",
       "  <thead>\n",
       "    <tr style=\"text-align: right;\">\n",
       "      <th></th>\n",
       "      <th>Id</th>\n",
       "      <th>MSSubClass</th>\n",
       "      <th>MSZoning</th>\n",
       "      <th>LotFrontage</th>\n",
       "      <th>LotArea</th>\n",
       "      <th>Street</th>\n",
       "      <th>Alley</th>\n",
       "      <th>LotShape</th>\n",
       "      <th>LandContour</th>\n",
       "      <th>Utilities</th>\n",
       "      <th>...</th>\n",
       "      <th>PoolArea</th>\n",
       "      <th>PoolQC</th>\n",
       "      <th>Fence</th>\n",
       "      <th>MiscFeature</th>\n",
       "      <th>MiscVal</th>\n",
       "      <th>MoSold</th>\n",
       "      <th>YrSold</th>\n",
       "      <th>SaleType</th>\n",
       "      <th>SaleCondition</th>\n",
       "      <th>SalePrice</th>\n",
       "    </tr>\n",
       "  </thead>\n",
       "  <tbody>\n",
       "    <tr>\n",
       "      <th>0</th>\n",
       "      <td>1</td>\n",
       "      <td>60</td>\n",
       "      <td>RL</td>\n",
       "      <td>65.0</td>\n",
       "      <td>8450</td>\n",
       "      <td>Pave</td>\n",
       "      <td>NaN</td>\n",
       "      <td>Reg</td>\n",
       "      <td>Lvl</td>\n",
       "      <td>AllPub</td>\n",
       "      <td>...</td>\n",
       "      <td>0</td>\n",
       "      <td>NaN</td>\n",
       "      <td>NaN</td>\n",
       "      <td>NaN</td>\n",
       "      <td>0</td>\n",
       "      <td>2</td>\n",
       "      <td>2008</td>\n",
       "      <td>WD</td>\n",
       "      <td>Normal</td>\n",
       "      <td>208500</td>\n",
       "    </tr>\n",
       "    <tr>\n",
       "      <th>1</th>\n",
       "      <td>2</td>\n",
       "      <td>20</td>\n",
       "      <td>RL</td>\n",
       "      <td>80.0</td>\n",
       "      <td>9600</td>\n",
       "      <td>Pave</td>\n",
       "      <td>NaN</td>\n",
       "      <td>Reg</td>\n",
       "      <td>Lvl</td>\n",
       "      <td>AllPub</td>\n",
       "      <td>...</td>\n",
       "      <td>0</td>\n",
       "      <td>NaN</td>\n",
       "      <td>NaN</td>\n",
       "      <td>NaN</td>\n",
       "      <td>0</td>\n",
       "      <td>5</td>\n",
       "      <td>2007</td>\n",
       "      <td>WD</td>\n",
       "      <td>Normal</td>\n",
       "      <td>181500</td>\n",
       "    </tr>\n",
       "    <tr>\n",
       "      <th>2</th>\n",
       "      <td>3</td>\n",
       "      <td>60</td>\n",
       "      <td>RL</td>\n",
       "      <td>68.0</td>\n",
       "      <td>11250</td>\n",
       "      <td>Pave</td>\n",
       "      <td>NaN</td>\n",
       "      <td>IR1</td>\n",
       "      <td>Lvl</td>\n",
       "      <td>AllPub</td>\n",
       "      <td>...</td>\n",
       "      <td>0</td>\n",
       "      <td>NaN</td>\n",
       "      <td>NaN</td>\n",
       "      <td>NaN</td>\n",
       "      <td>0</td>\n",
       "      <td>9</td>\n",
       "      <td>2008</td>\n",
       "      <td>WD</td>\n",
       "      <td>Normal</td>\n",
       "      <td>223500</td>\n",
       "    </tr>\n",
       "    <tr>\n",
       "      <th>3</th>\n",
       "      <td>4</td>\n",
       "      <td>70</td>\n",
       "      <td>RL</td>\n",
       "      <td>60.0</td>\n",
       "      <td>9550</td>\n",
       "      <td>Pave</td>\n",
       "      <td>NaN</td>\n",
       "      <td>IR1</td>\n",
       "      <td>Lvl</td>\n",
       "      <td>AllPub</td>\n",
       "      <td>...</td>\n",
       "      <td>0</td>\n",
       "      <td>NaN</td>\n",
       "      <td>NaN</td>\n",
       "      <td>NaN</td>\n",
       "      <td>0</td>\n",
       "      <td>2</td>\n",
       "      <td>2006</td>\n",
       "      <td>WD</td>\n",
       "      <td>Abnorml</td>\n",
       "      <td>140000</td>\n",
       "    </tr>\n",
       "    <tr>\n",
       "      <th>4</th>\n",
       "      <td>5</td>\n",
       "      <td>60</td>\n",
       "      <td>RL</td>\n",
       "      <td>84.0</td>\n",
       "      <td>14260</td>\n",
       "      <td>Pave</td>\n",
       "      <td>NaN</td>\n",
       "      <td>IR1</td>\n",
       "      <td>Lvl</td>\n",
       "      <td>AllPub</td>\n",
       "      <td>...</td>\n",
       "      <td>0</td>\n",
       "      <td>NaN</td>\n",
       "      <td>NaN</td>\n",
       "      <td>NaN</td>\n",
       "      <td>0</td>\n",
       "      <td>12</td>\n",
       "      <td>2008</td>\n",
       "      <td>WD</td>\n",
       "      <td>Normal</td>\n",
       "      <td>250000</td>\n",
       "    </tr>\n",
       "  </tbody>\n",
       "</table>\n",
       "<p>5 rows × 81 columns</p>\n",
       "</div>"
      ],
      "text/plain": [
       "   Id  MSSubClass MSZoning  LotFrontage  LotArea Street Alley LotShape  \\\n",
       "0   1          60       RL         65.0     8450   Pave   NaN      Reg   \n",
       "1   2          20       RL         80.0     9600   Pave   NaN      Reg   \n",
       "2   3          60       RL         68.0    11250   Pave   NaN      IR1   \n",
       "3   4          70       RL         60.0     9550   Pave   NaN      IR1   \n",
       "4   5          60       RL         84.0    14260   Pave   NaN      IR1   \n",
       "\n",
       "  LandContour Utilities  ... PoolArea PoolQC Fence MiscFeature MiscVal MoSold  \\\n",
       "0         Lvl    AllPub  ...        0    NaN   NaN         NaN       0      2   \n",
       "1         Lvl    AllPub  ...        0    NaN   NaN         NaN       0      5   \n",
       "2         Lvl    AllPub  ...        0    NaN   NaN         NaN       0      9   \n",
       "3         Lvl    AllPub  ...        0    NaN   NaN         NaN       0      2   \n",
       "4         Lvl    AllPub  ...        0    NaN   NaN         NaN       0     12   \n",
       "\n",
       "  YrSold  SaleType  SaleCondition  SalePrice  \n",
       "0   2008        WD         Normal     208500  \n",
       "1   2007        WD         Normal     181500  \n",
       "2   2008        WD         Normal     223500  \n",
       "3   2006        WD        Abnorml     140000  \n",
       "4   2008        WD         Normal     250000  \n",
       "\n",
       "[5 rows x 81 columns]"
      ]
     },
     "execution_count": 2,
     "metadata": {},
     "output_type": "execute_result"
    }
   ],
   "source": [
    "data = pd.read_csv(\"train.csv\")\n",
    "data.head()"
   ]
  },
  {
   "cell_type": "code",
   "execution_count": 3,
   "id": "23cc1866",
   "metadata": {},
   "outputs": [
    {
     "data": {
      "text/html": [
       "<div>\n",
       "<style scoped>\n",
       "    .dataframe tbody tr th:only-of-type {\n",
       "        vertical-align: middle;\n",
       "    }\n",
       "\n",
       "    .dataframe tbody tr th {\n",
       "        vertical-align: top;\n",
       "    }\n",
       "\n",
       "    .dataframe thead th {\n",
       "        text-align: right;\n",
       "    }\n",
       "</style>\n",
       "<table border=\"1\" class=\"dataframe\">\n",
       "  <thead>\n",
       "    <tr style=\"text-align: right;\">\n",
       "      <th></th>\n",
       "      <th>MSSubClass</th>\n",
       "      <th>MSZoning</th>\n",
       "      <th>LotFrontage</th>\n",
       "      <th>LotArea</th>\n",
       "      <th>Street</th>\n",
       "      <th>Alley</th>\n",
       "      <th>LotShape</th>\n",
       "      <th>LandContour</th>\n",
       "      <th>Utilities</th>\n",
       "      <th>LotConfig</th>\n",
       "      <th>...</th>\n",
       "      <th>PoolArea</th>\n",
       "      <th>PoolQC</th>\n",
       "      <th>Fence</th>\n",
       "      <th>MiscFeature</th>\n",
       "      <th>MiscVal</th>\n",
       "      <th>MoSold</th>\n",
       "      <th>YrSold</th>\n",
       "      <th>SaleType</th>\n",
       "      <th>SaleCondition</th>\n",
       "      <th>SalePrice</th>\n",
       "    </tr>\n",
       "    <tr>\n",
       "      <th>Id</th>\n",
       "      <th></th>\n",
       "      <th></th>\n",
       "      <th></th>\n",
       "      <th></th>\n",
       "      <th></th>\n",
       "      <th></th>\n",
       "      <th></th>\n",
       "      <th></th>\n",
       "      <th></th>\n",
       "      <th></th>\n",
       "      <th></th>\n",
       "      <th></th>\n",
       "      <th></th>\n",
       "      <th></th>\n",
       "      <th></th>\n",
       "      <th></th>\n",
       "      <th></th>\n",
       "      <th></th>\n",
       "      <th></th>\n",
       "      <th></th>\n",
       "      <th></th>\n",
       "    </tr>\n",
       "  </thead>\n",
       "  <tbody>\n",
       "    <tr>\n",
       "      <th>1</th>\n",
       "      <td>60</td>\n",
       "      <td>RL</td>\n",
       "      <td>65.0</td>\n",
       "      <td>8450</td>\n",
       "      <td>Pave</td>\n",
       "      <td>NaN</td>\n",
       "      <td>Reg</td>\n",
       "      <td>Lvl</td>\n",
       "      <td>AllPub</td>\n",
       "      <td>Inside</td>\n",
       "      <td>...</td>\n",
       "      <td>0</td>\n",
       "      <td>NaN</td>\n",
       "      <td>NaN</td>\n",
       "      <td>NaN</td>\n",
       "      <td>0</td>\n",
       "      <td>2</td>\n",
       "      <td>2008</td>\n",
       "      <td>WD</td>\n",
       "      <td>Normal</td>\n",
       "      <td>208500</td>\n",
       "    </tr>\n",
       "    <tr>\n",
       "      <th>2</th>\n",
       "      <td>20</td>\n",
       "      <td>RL</td>\n",
       "      <td>80.0</td>\n",
       "      <td>9600</td>\n",
       "      <td>Pave</td>\n",
       "      <td>NaN</td>\n",
       "      <td>Reg</td>\n",
       "      <td>Lvl</td>\n",
       "      <td>AllPub</td>\n",
       "      <td>FR2</td>\n",
       "      <td>...</td>\n",
       "      <td>0</td>\n",
       "      <td>NaN</td>\n",
       "      <td>NaN</td>\n",
       "      <td>NaN</td>\n",
       "      <td>0</td>\n",
       "      <td>5</td>\n",
       "      <td>2007</td>\n",
       "      <td>WD</td>\n",
       "      <td>Normal</td>\n",
       "      <td>181500</td>\n",
       "    </tr>\n",
       "    <tr>\n",
       "      <th>3</th>\n",
       "      <td>60</td>\n",
       "      <td>RL</td>\n",
       "      <td>68.0</td>\n",
       "      <td>11250</td>\n",
       "      <td>Pave</td>\n",
       "      <td>NaN</td>\n",
       "      <td>IR1</td>\n",
       "      <td>Lvl</td>\n",
       "      <td>AllPub</td>\n",
       "      <td>Inside</td>\n",
       "      <td>...</td>\n",
       "      <td>0</td>\n",
       "      <td>NaN</td>\n",
       "      <td>NaN</td>\n",
       "      <td>NaN</td>\n",
       "      <td>0</td>\n",
       "      <td>9</td>\n",
       "      <td>2008</td>\n",
       "      <td>WD</td>\n",
       "      <td>Normal</td>\n",
       "      <td>223500</td>\n",
       "    </tr>\n",
       "    <tr>\n",
       "      <th>4</th>\n",
       "      <td>70</td>\n",
       "      <td>RL</td>\n",
       "      <td>60.0</td>\n",
       "      <td>9550</td>\n",
       "      <td>Pave</td>\n",
       "      <td>NaN</td>\n",
       "      <td>IR1</td>\n",
       "      <td>Lvl</td>\n",
       "      <td>AllPub</td>\n",
       "      <td>Corner</td>\n",
       "      <td>...</td>\n",
       "      <td>0</td>\n",
       "      <td>NaN</td>\n",
       "      <td>NaN</td>\n",
       "      <td>NaN</td>\n",
       "      <td>0</td>\n",
       "      <td>2</td>\n",
       "      <td>2006</td>\n",
       "      <td>WD</td>\n",
       "      <td>Abnorml</td>\n",
       "      <td>140000</td>\n",
       "    </tr>\n",
       "    <tr>\n",
       "      <th>5</th>\n",
       "      <td>60</td>\n",
       "      <td>RL</td>\n",
       "      <td>84.0</td>\n",
       "      <td>14260</td>\n",
       "      <td>Pave</td>\n",
       "      <td>NaN</td>\n",
       "      <td>IR1</td>\n",
       "      <td>Lvl</td>\n",
       "      <td>AllPub</td>\n",
       "      <td>FR2</td>\n",
       "      <td>...</td>\n",
       "      <td>0</td>\n",
       "      <td>NaN</td>\n",
       "      <td>NaN</td>\n",
       "      <td>NaN</td>\n",
       "      <td>0</td>\n",
       "      <td>12</td>\n",
       "      <td>2008</td>\n",
       "      <td>WD</td>\n",
       "      <td>Normal</td>\n",
       "      <td>250000</td>\n",
       "    </tr>\n",
       "  </tbody>\n",
       "</table>\n",
       "<p>5 rows × 80 columns</p>\n",
       "</div>"
      ],
      "text/plain": [
       "    MSSubClass MSZoning  LotFrontage  LotArea Street Alley LotShape  \\\n",
       "Id                                                                    \n",
       "1           60       RL         65.0     8450   Pave   NaN      Reg   \n",
       "2           20       RL         80.0     9600   Pave   NaN      Reg   \n",
       "3           60       RL         68.0    11250   Pave   NaN      IR1   \n",
       "4           70       RL         60.0     9550   Pave   NaN      IR1   \n",
       "5           60       RL         84.0    14260   Pave   NaN      IR1   \n",
       "\n",
       "   LandContour Utilities LotConfig  ... PoolArea PoolQC Fence MiscFeature  \\\n",
       "Id                                  ...                                     \n",
       "1          Lvl    AllPub    Inside  ...        0    NaN   NaN         NaN   \n",
       "2          Lvl    AllPub       FR2  ...        0    NaN   NaN         NaN   \n",
       "3          Lvl    AllPub    Inside  ...        0    NaN   NaN         NaN   \n",
       "4          Lvl    AllPub    Corner  ...        0    NaN   NaN         NaN   \n",
       "5          Lvl    AllPub       FR2  ...        0    NaN   NaN         NaN   \n",
       "\n",
       "   MiscVal MoSold  YrSold  SaleType  SaleCondition  SalePrice  \n",
       "Id                                                             \n",
       "1        0      2    2008        WD         Normal     208500  \n",
       "2        0      5    2007        WD         Normal     181500  \n",
       "3        0      9    2008        WD         Normal     223500  \n",
       "4        0      2    2006        WD        Abnorml     140000  \n",
       "5        0     12    2008        WD         Normal     250000  \n",
       "\n",
       "[5 rows x 80 columns]"
      ]
     },
     "execution_count": 3,
     "metadata": {},
     "output_type": "execute_result"
    }
   ],
   "source": [
    "data = pd.read_csv(\"train.csv\", index_col = \"Id\")\n",
    "data.head()"
   ]
  },
  {
   "cell_type": "code",
   "execution_count": 4,
   "id": "94747d4b",
   "metadata": {},
   "outputs": [
    {
     "data": {
      "text/plain": [
       "Index(['MSSubClass', 'MSZoning', 'LotFrontage', 'LotArea', 'Street', 'Alley',\n",
       "       'LotShape', 'LandContour', 'Utilities', 'LotConfig', 'LandSlope',\n",
       "       'Neighborhood', 'Condition1', 'Condition2', 'BldgType', 'HouseStyle',\n",
       "       'OverallQual', 'OverallCond', 'YearBuilt', 'YearRemodAdd', 'RoofStyle',\n",
       "       'RoofMatl', 'Exterior1st', 'Exterior2nd', 'MasVnrType', 'MasVnrArea',\n",
       "       'ExterQual', 'ExterCond', 'Foundation', 'BsmtQual', 'BsmtCond',\n",
       "       'BsmtExposure', 'BsmtFinType1', 'BsmtFinSF1', 'BsmtFinType2',\n",
       "       'BsmtFinSF2', 'BsmtUnfSF', 'TotalBsmtSF', 'Heating', 'HeatingQC',\n",
       "       'CentralAir', 'Electrical', '1stFlrSF', '2ndFlrSF', 'LowQualFinSF',\n",
       "       'GrLivArea', 'BsmtFullBath', 'BsmtHalfBath', 'FullBath', 'HalfBath',\n",
       "       'BedroomAbvGr', 'KitchenAbvGr', 'KitchenQual', 'TotRmsAbvGrd',\n",
       "       'Functional', 'Fireplaces', 'FireplaceQu', 'GarageType', 'GarageYrBlt',\n",
       "       'GarageFinish', 'GarageCars', 'GarageArea', 'GarageQual', 'GarageCond',\n",
       "       'PavedDrive', 'WoodDeckSF', 'OpenPorchSF', 'EnclosedPorch', '3SsnPorch',\n",
       "       'ScreenPorch', 'PoolArea', 'PoolQC', 'Fence', 'MiscFeature', 'MiscVal',\n",
       "       'MoSold', 'YrSold', 'SaleType', 'SaleCondition', 'SalePrice'],\n",
       "      dtype='object')"
      ]
     },
     "execution_count": 4,
     "metadata": {},
     "output_type": "execute_result"
    }
   ],
   "source": [
    "data.columns #liệt kê các tên cột "
   ]
  },
  {
   "cell_type": "markdown",
   "id": "5d78f1a7",
   "metadata": {},
   "source": [
    "### Feature Selection\n",
    "* -choose Feature to train ML Model"
   ]
  },
  {
   "cell_type": "code",
   "execution_count": 5,
   "id": "bbb57f9e",
   "metadata": {},
   "outputs": [],
   "source": [
    "features = [\"LotArea\",\"YearBuilt\",\"1stFlrSF\",\"2ndFlrSF\",\"FullBath\",\"BedroomAbvGr\",\"TotRmsAbvGrd\"]"
   ]
  },
  {
   "cell_type": "markdown",
   "id": "de52f271",
   "metadata": {},
   "source": [
    "### Spltting dataset into X and y"
   ]
  },
  {
   "cell_type": "code",
   "execution_count": 6,
   "id": "c023207e",
   "metadata": {},
   "outputs": [],
   "source": [
    "X = data[features]\n",
    "Y = data[\"SalePrice\"]"
   ]
  },
  {
   "cell_type": "code",
   "execution_count": 7,
   "id": "07feb0c0",
   "metadata": {},
   "outputs": [
    {
     "data": {
      "text/html": [
       "<div>\n",
       "<style scoped>\n",
       "    .dataframe tbody tr th:only-of-type {\n",
       "        vertical-align: middle;\n",
       "    }\n",
       "\n",
       "    .dataframe tbody tr th {\n",
       "        vertical-align: top;\n",
       "    }\n",
       "\n",
       "    .dataframe thead th {\n",
       "        text-align: right;\n",
       "    }\n",
       "</style>\n",
       "<table border=\"1\" class=\"dataframe\">\n",
       "  <thead>\n",
       "    <tr style=\"text-align: right;\">\n",
       "      <th></th>\n",
       "      <th>LotArea</th>\n",
       "      <th>YearBuilt</th>\n",
       "      <th>1stFlrSF</th>\n",
       "      <th>2ndFlrSF</th>\n",
       "      <th>FullBath</th>\n",
       "      <th>BedroomAbvGr</th>\n",
       "      <th>TotRmsAbvGrd</th>\n",
       "    </tr>\n",
       "    <tr>\n",
       "      <th>Id</th>\n",
       "      <th></th>\n",
       "      <th></th>\n",
       "      <th></th>\n",
       "      <th></th>\n",
       "      <th></th>\n",
       "      <th></th>\n",
       "      <th></th>\n",
       "    </tr>\n",
       "  </thead>\n",
       "  <tbody>\n",
       "    <tr>\n",
       "      <th>1</th>\n",
       "      <td>8450</td>\n",
       "      <td>2003</td>\n",
       "      <td>856</td>\n",
       "      <td>854</td>\n",
       "      <td>2</td>\n",
       "      <td>3</td>\n",
       "      <td>8</td>\n",
       "    </tr>\n",
       "    <tr>\n",
       "      <th>2</th>\n",
       "      <td>9600</td>\n",
       "      <td>1976</td>\n",
       "      <td>1262</td>\n",
       "      <td>0</td>\n",
       "      <td>2</td>\n",
       "      <td>3</td>\n",
       "      <td>6</td>\n",
       "    </tr>\n",
       "    <tr>\n",
       "      <th>3</th>\n",
       "      <td>11250</td>\n",
       "      <td>2001</td>\n",
       "      <td>920</td>\n",
       "      <td>866</td>\n",
       "      <td>2</td>\n",
       "      <td>3</td>\n",
       "      <td>6</td>\n",
       "    </tr>\n",
       "    <tr>\n",
       "      <th>4</th>\n",
       "      <td>9550</td>\n",
       "      <td>1915</td>\n",
       "      <td>961</td>\n",
       "      <td>756</td>\n",
       "      <td>1</td>\n",
       "      <td>3</td>\n",
       "      <td>7</td>\n",
       "    </tr>\n",
       "    <tr>\n",
       "      <th>5</th>\n",
       "      <td>14260</td>\n",
       "      <td>2000</td>\n",
       "      <td>1145</td>\n",
       "      <td>1053</td>\n",
       "      <td>2</td>\n",
       "      <td>4</td>\n",
       "      <td>9</td>\n",
       "    </tr>\n",
       "    <tr>\n",
       "      <th>...</th>\n",
       "      <td>...</td>\n",
       "      <td>...</td>\n",
       "      <td>...</td>\n",
       "      <td>...</td>\n",
       "      <td>...</td>\n",
       "      <td>...</td>\n",
       "      <td>...</td>\n",
       "    </tr>\n",
       "    <tr>\n",
       "      <th>96</th>\n",
       "      <td>9765</td>\n",
       "      <td>1993</td>\n",
       "      <td>680</td>\n",
       "      <td>790</td>\n",
       "      <td>2</td>\n",
       "      <td>3</td>\n",
       "      <td>6</td>\n",
       "    </tr>\n",
       "    <tr>\n",
       "      <th>97</th>\n",
       "      <td>10264</td>\n",
       "      <td>1999</td>\n",
       "      <td>1588</td>\n",
       "      <td>0</td>\n",
       "      <td>2</td>\n",
       "      <td>3</td>\n",
       "      <td>6</td>\n",
       "    </tr>\n",
       "    <tr>\n",
       "      <th>98</th>\n",
       "      <td>10921</td>\n",
       "      <td>1965</td>\n",
       "      <td>960</td>\n",
       "      <td>0</td>\n",
       "      <td>1</td>\n",
       "      <td>3</td>\n",
       "      <td>6</td>\n",
       "    </tr>\n",
       "    <tr>\n",
       "      <th>99</th>\n",
       "      <td>10625</td>\n",
       "      <td>1920</td>\n",
       "      <td>835</td>\n",
       "      <td>0</td>\n",
       "      <td>1</td>\n",
       "      <td>2</td>\n",
       "      <td>5</td>\n",
       "    </tr>\n",
       "    <tr>\n",
       "      <th>100</th>\n",
       "      <td>9320</td>\n",
       "      <td>1959</td>\n",
       "      <td>1225</td>\n",
       "      <td>0</td>\n",
       "      <td>1</td>\n",
       "      <td>3</td>\n",
       "      <td>6</td>\n",
       "    </tr>\n",
       "  </tbody>\n",
       "</table>\n",
       "<p>100 rows × 7 columns</p>\n",
       "</div>"
      ],
      "text/plain": [
       "     LotArea  YearBuilt  1stFlrSF  2ndFlrSF  FullBath  BedroomAbvGr  \\\n",
       "Id                                                                    \n",
       "1       8450       2003       856       854         2             3   \n",
       "2       9600       1976      1262         0         2             3   \n",
       "3      11250       2001       920       866         2             3   \n",
       "4       9550       1915       961       756         1             3   \n",
       "5      14260       2000      1145      1053         2             4   \n",
       "..       ...        ...       ...       ...       ...           ...   \n",
       "96      9765       1993       680       790         2             3   \n",
       "97     10264       1999      1588         0         2             3   \n",
       "98     10921       1965       960         0         1             3   \n",
       "99     10625       1920       835         0         1             2   \n",
       "100     9320       1959      1225         0         1             3   \n",
       "\n",
       "     TotRmsAbvGrd  \n",
       "Id                 \n",
       "1               8  \n",
       "2               6  \n",
       "3               6  \n",
       "4               7  \n",
       "5               9  \n",
       "..            ...  \n",
       "96              6  \n",
       "97              6  \n",
       "98              6  \n",
       "99              5  \n",
       "100             6  \n",
       "\n",
       "[100 rows x 7 columns]"
      ]
     },
     "execution_count": 7,
     "metadata": {},
     "output_type": "execute_result"
    }
   ],
   "source": [
    "X.head(100)"
   ]
  },
  {
   "cell_type": "code",
   "execution_count": 8,
   "id": "73a6f6fb",
   "metadata": {},
   "outputs": [
    {
     "data": {
      "text/plain": [
       "Id\n",
       "1      208500\n",
       "2      181500\n",
       "3      223500\n",
       "4      140000\n",
       "5      250000\n",
       "        ...  \n",
       "96     185000\n",
       "97     214000\n",
       "98      94750\n",
       "99      83000\n",
       "100    128950\n",
       "Name: SalePrice, Length: 100, dtype: int64"
      ]
     },
     "execution_count": 8,
     "metadata": {},
     "output_type": "execute_result"
    }
   ],
   "source": [
    "Y.head(100)"
   ]
  },
  {
   "cell_type": "markdown",
   "id": "4c41235b",
   "metadata": {},
   "source": [
    "#### X_train, X_test, y_train, y_test"
   ]
  },
  {
   "cell_type": "code",
   "execution_count": 9,
   "id": "6c06e734",
   "metadata": {},
   "outputs": [],
   "source": [
    "from sklearn.model_selection import train_test_split\n",
    "\n",
    "X_train, X_valid, Y_train, Y_valid = train_test_split(X,Y, train_size=0.8, test_size=0.2, random_state=0)\n"
   ]
  },
  {
   "cell_type": "code",
   "execution_count": 10,
   "id": "83c6b857",
   "metadata": {},
   "outputs": [
    {
     "data": {
      "text/plain": [
       "(1168, 7)"
      ]
     },
     "execution_count": 10,
     "metadata": {},
     "output_type": "execute_result"
    }
   ],
   "source": [
    "X_train.shape # 80% của hàng"
   ]
  },
  {
   "cell_type": "code",
   "execution_count": 11,
   "id": "925da9df",
   "metadata": {},
   "outputs": [
    {
     "data": {
      "text/plain": [
       "(292, 7)"
      ]
     },
     "execution_count": 11,
     "metadata": {},
     "output_type": "execute_result"
    }
   ],
   "source": [
    "X_valid.shape # 20% còn lại của hàng"
   ]
  },
  {
   "cell_type": "code",
   "execution_count": 12,
   "id": "fadac3b1",
   "metadata": {},
   "outputs": [
    {
     "data": {
      "text/plain": [
       "(1460, 80)"
      ]
     },
     "execution_count": 12,
     "metadata": {},
     "output_type": "execute_result"
    }
   ],
   "source": [
    "data.shape # tổng"
   ]
  },
  {
   "cell_type": "code",
   "execution_count": 13,
   "id": "dbe52ee7",
   "metadata": {},
   "outputs": [
    {
     "data": {
      "text/plain": [
       "(1460, 7)"
      ]
     },
     "execution_count": 13,
     "metadata": {},
     "output_type": "execute_result"
    }
   ],
   "source": [
    "X.shape # tổng"
   ]
  },
  {
   "cell_type": "markdown",
   "id": "92818c2e",
   "metadata": {},
   "source": [
    "## chú ý tới lúc train ML\n",
    "*\"\"\"DecisionTreeRegressor là một model thuộc loại Decision Tree (Cây Quyết Định)\n",
    "được sử dụng trong bài toán hồi quy (regression).\n",
    "Model này sẽ học cách xây dựng một cây quyết định dựa trên các thuộc tính đầu vào của dữ liệu và đầu ra (target)tương ứng với mỗi điểm dữ liệu. \n",
    "Cây quyết định này sẽ được sử dụng để dự đoán giá trị đầu ra của các điểm dữ liệu mới dựa trên thuộc tính đầu vào. \n",
    "Model này có thể được sử dụng để giải quyết các bài toán liên quan đến dự đoán giá nhà,dự đoán doanh thu của một cửa hàng, v.v.\"\"\""
   ]
  },
  {
   "cell_type": "code",
   "execution_count": 14,
   "id": "196f6162",
   "metadata": {},
   "outputs": [],
   "source": [
    "from sklearn.tree import DecisionTreeRegressor\n",
    "\n",
    "dt_model = DecisionTreeRegressor(random_state=1)\n"
   ]
  },
  {
   "cell_type": "code",
   "execution_count": 15,
   "id": "c7dd1995",
   "metadata": {},
   "outputs": [
    {
     "data": {
      "text/html": [
       "<style>#sk-container-id-1 {color: black;background-color: white;}#sk-container-id-1 pre{padding: 0;}#sk-container-id-1 div.sk-toggleable {background-color: white;}#sk-container-id-1 label.sk-toggleable__label {cursor: pointer;display: block;width: 100%;margin-bottom: 0;padding: 0.3em;box-sizing: border-box;text-align: center;}#sk-container-id-1 label.sk-toggleable__label-arrow:before {content: \"▸\";float: left;margin-right: 0.25em;color: #696969;}#sk-container-id-1 label.sk-toggleable__label-arrow:hover:before {color: black;}#sk-container-id-1 div.sk-estimator:hover label.sk-toggleable__label-arrow:before {color: black;}#sk-container-id-1 div.sk-toggleable__content {max-height: 0;max-width: 0;overflow: hidden;text-align: left;background-color: #f0f8ff;}#sk-container-id-1 div.sk-toggleable__content pre {margin: 0.2em;color: black;border-radius: 0.25em;background-color: #f0f8ff;}#sk-container-id-1 input.sk-toggleable__control:checked~div.sk-toggleable__content {max-height: 200px;max-width: 100%;overflow: auto;}#sk-container-id-1 input.sk-toggleable__control:checked~label.sk-toggleable__label-arrow:before {content: \"▾\";}#sk-container-id-1 div.sk-estimator input.sk-toggleable__control:checked~label.sk-toggleable__label {background-color: #d4ebff;}#sk-container-id-1 div.sk-label input.sk-toggleable__control:checked~label.sk-toggleable__label {background-color: #d4ebff;}#sk-container-id-1 input.sk-hidden--visually {border: 0;clip: rect(1px 1px 1px 1px);clip: rect(1px, 1px, 1px, 1px);height: 1px;margin: -1px;overflow: hidden;padding: 0;position: absolute;width: 1px;}#sk-container-id-1 div.sk-estimator {font-family: monospace;background-color: #f0f8ff;border: 1px dotted black;border-radius: 0.25em;box-sizing: border-box;margin-bottom: 0.5em;}#sk-container-id-1 div.sk-estimator:hover {background-color: #d4ebff;}#sk-container-id-1 div.sk-parallel-item::after {content: \"\";width: 100%;border-bottom: 1px solid gray;flex-grow: 1;}#sk-container-id-1 div.sk-label:hover label.sk-toggleable__label {background-color: #d4ebff;}#sk-container-id-1 div.sk-serial::before {content: \"\";position: absolute;border-left: 1px solid gray;box-sizing: border-box;top: 0;bottom: 0;left: 50%;z-index: 0;}#sk-container-id-1 div.sk-serial {display: flex;flex-direction: column;align-items: center;background-color: white;padding-right: 0.2em;padding-left: 0.2em;position: relative;}#sk-container-id-1 div.sk-item {position: relative;z-index: 1;}#sk-container-id-1 div.sk-parallel {display: flex;align-items: stretch;justify-content: center;background-color: white;position: relative;}#sk-container-id-1 div.sk-item::before, #sk-container-id-1 div.sk-parallel-item::before {content: \"\";position: absolute;border-left: 1px solid gray;box-sizing: border-box;top: 0;bottom: 0;left: 50%;z-index: -1;}#sk-container-id-1 div.sk-parallel-item {display: flex;flex-direction: column;z-index: 1;position: relative;background-color: white;}#sk-container-id-1 div.sk-parallel-item:first-child::after {align-self: flex-end;width: 50%;}#sk-container-id-1 div.sk-parallel-item:last-child::after {align-self: flex-start;width: 50%;}#sk-container-id-1 div.sk-parallel-item:only-child::after {width: 0;}#sk-container-id-1 div.sk-dashed-wrapped {border: 1px dashed gray;margin: 0 0.4em 0.5em 0.4em;box-sizing: border-box;padding-bottom: 0.4em;background-color: white;}#sk-container-id-1 div.sk-label label {font-family: monospace;font-weight: bold;display: inline-block;line-height: 1.2em;}#sk-container-id-1 div.sk-label-container {text-align: center;}#sk-container-id-1 div.sk-container {/* jupyter's `normalize.less` sets `[hidden] { display: none; }` but bootstrap.min.css set `[hidden] { display: none !important; }` so we also need the `!important` here to be able to override the default hidden behavior on the sphinx rendered scikit-learn.org. See: https://github.com/scikit-learn/scikit-learn/issues/21755 */display: inline-block !important;position: relative;}#sk-container-id-1 div.sk-text-repr-fallback {display: none;}</style><div id=\"sk-container-id-1\" class=\"sk-top-container\"><div class=\"sk-text-repr-fallback\"><pre>DecisionTreeRegressor(random_state=1)</pre><b>In a Jupyter environment, please rerun this cell to show the HTML representation or trust the notebook. <br />On GitHub, the HTML representation is unable to render, please try loading this page with nbviewer.org.</b></div><div class=\"sk-container\" hidden><div class=\"sk-item\"><div class=\"sk-estimator sk-toggleable\"><input class=\"sk-toggleable__control sk-hidden--visually\" id=\"sk-estimator-id-1\" type=\"checkbox\" checked><label for=\"sk-estimator-id-1\" class=\"sk-toggleable__label sk-toggleable__label-arrow\">DecisionTreeRegressor</label><div class=\"sk-toggleable__content\"><pre>DecisionTreeRegressor(random_state=1)</pre></div></div></div></div></div>"
      ],
      "text/plain": [
       "DecisionTreeRegressor(random_state=1)"
      ]
     },
     "execution_count": 15,
     "metadata": {},
     "output_type": "execute_result"
    }
   ],
   "source": [
    "#Fit tranining data into model\n",
    "dt_model.fit(X_train,Y_train)"
   ]
  },
  {
   "cell_type": "code",
   "execution_count": 16,
   "id": "13a8d4ba",
   "metadata": {},
   "outputs": [
    {
     "data": {
      "text/plain": [
       "'Trong Machine Learning, chúng ta sử dụng mô hình để dự đoán giá trị đầu ra cho các điểm dữ liệu mới.\\nHàm predict trong thư viện scikit-learn được sử dụng để thực hiện việc dự đoán này, \\nbằng cách truyền vào dữ liệu đầu vào và mô hình đã được huấn luyện trước đó.\\nKết quả trả về là một mảng các giá trị dự đoán cho các điểm dữ liệu đầu vào tương ứng.'"
      ]
     },
     "execution_count": 16,
     "metadata": {},
     "output_type": "execute_result"
    }
   ],
   "source": [
    "y_preds=dt_model.predict(X_valid.head())\n",
    "#.head() cho y_preds print ra 5 phần tử thui\n",
    "\"\"\"Trong Machine Learning, chúng ta sử dụng mô hình để dự đoán giá trị đầu ra cho các điểm dữ liệu mới.\n",
    "Hàm predict trong thư viện scikit-learn được sử dụng để thực hiện việc dự đoán này, \n",
    "bằng cách truyền vào dữ liệu đầu vào và mô hình đã được huấn luyện trước đó.\n",
    "Kết quả trả về là một mảng các giá trị dự đoán cho các điểm dữ liệu đầu vào tương ứng.\"\"\""
   ]
  },
  {
   "cell_type": "code",
   "execution_count": 17,
   "id": "1fae615a",
   "metadata": {},
   "outputs": [
    {
     "data": {
      "text/plain": [
       "array([335000., 140200., 119000., 207500., 112000.])"
      ]
     },
     "execution_count": 17,
     "metadata": {},
     "output_type": "execute_result"
    }
   ],
   "source": [
    "y_preds"
   ]
  },
  {
   "cell_type": "code",
   "execution_count": 18,
   "id": "5c58b1b8",
   "metadata": {},
   "outputs": [
    {
     "data": {
      "text/html": [
       "<div>\n",
       "<style scoped>\n",
       "    .dataframe tbody tr th:only-of-type {\n",
       "        vertical-align: middle;\n",
       "    }\n",
       "\n",
       "    .dataframe tbody tr th {\n",
       "        vertical-align: top;\n",
       "    }\n",
       "\n",
       "    .dataframe thead th {\n",
       "        text-align: right;\n",
       "    }\n",
       "</style>\n",
       "<table border=\"1\" class=\"dataframe\">\n",
       "  <thead>\n",
       "    <tr style=\"text-align: right;\">\n",
       "      <th></th>\n",
       "      <th>Y</th>\n",
       "      <th>y_preds</th>\n",
       "    </tr>\n",
       "    <tr>\n",
       "      <th>Id</th>\n",
       "      <th></th>\n",
       "      <th></th>\n",
       "    </tr>\n",
       "  </thead>\n",
       "  <tbody>\n",
       "    <tr>\n",
       "      <th>530</th>\n",
       "      <td>200624</td>\n",
       "      <td>335000.0</td>\n",
       "    </tr>\n",
       "    <tr>\n",
       "      <th>492</th>\n",
       "      <td>133000</td>\n",
       "      <td>140200.0</td>\n",
       "    </tr>\n",
       "    <tr>\n",
       "      <th>460</th>\n",
       "      <td>110000</td>\n",
       "      <td>119000.0</td>\n",
       "    </tr>\n",
       "    <tr>\n",
       "      <th>280</th>\n",
       "      <td>192000</td>\n",
       "      <td>207500.0</td>\n",
       "    </tr>\n",
       "    <tr>\n",
       "      <th>656</th>\n",
       "      <td>88000</td>\n",
       "      <td>112000.0</td>\n",
       "    </tr>\n",
       "  </tbody>\n",
       "</table>\n",
       "</div>"
      ],
      "text/plain": [
       "          Y   y_preds\n",
       "Id                   \n",
       "530  200624  335000.0\n",
       "492  133000  140200.0\n",
       "460  110000  119000.0\n",
       "280  192000  207500.0\n",
       "656   88000  112000.0"
      ]
     },
     "execution_count": 18,
     "metadata": {},
     "output_type": "execute_result"
    }
   ],
   "source": [
    "pd.DataFrame({'Y':Y_valid.head(), 'y_preds':y_preds})\n",
    "# kiểm tra giá trị thật và giá trị dự đoná có trên lệt nhiều k"
   ]
  },
  {
   "cell_type": "code",
   "execution_count": 19,
   "id": "d5ba60a2",
   "metadata": {},
   "outputs": [
    {
     "data": {
      "text/html": [
       "<style>#sk-container-id-2 {color: black;background-color: white;}#sk-container-id-2 pre{padding: 0;}#sk-container-id-2 div.sk-toggleable {background-color: white;}#sk-container-id-2 label.sk-toggleable__label {cursor: pointer;display: block;width: 100%;margin-bottom: 0;padding: 0.3em;box-sizing: border-box;text-align: center;}#sk-container-id-2 label.sk-toggleable__label-arrow:before {content: \"▸\";float: left;margin-right: 0.25em;color: #696969;}#sk-container-id-2 label.sk-toggleable__label-arrow:hover:before {color: black;}#sk-container-id-2 div.sk-estimator:hover label.sk-toggleable__label-arrow:before {color: black;}#sk-container-id-2 div.sk-toggleable__content {max-height: 0;max-width: 0;overflow: hidden;text-align: left;background-color: #f0f8ff;}#sk-container-id-2 div.sk-toggleable__content pre {margin: 0.2em;color: black;border-radius: 0.25em;background-color: #f0f8ff;}#sk-container-id-2 input.sk-toggleable__control:checked~div.sk-toggleable__content {max-height: 200px;max-width: 100%;overflow: auto;}#sk-container-id-2 input.sk-toggleable__control:checked~label.sk-toggleable__label-arrow:before {content: \"▾\";}#sk-container-id-2 div.sk-estimator input.sk-toggleable__control:checked~label.sk-toggleable__label {background-color: #d4ebff;}#sk-container-id-2 div.sk-label input.sk-toggleable__control:checked~label.sk-toggleable__label {background-color: #d4ebff;}#sk-container-id-2 input.sk-hidden--visually {border: 0;clip: rect(1px 1px 1px 1px);clip: rect(1px, 1px, 1px, 1px);height: 1px;margin: -1px;overflow: hidden;padding: 0;position: absolute;width: 1px;}#sk-container-id-2 div.sk-estimator {font-family: monospace;background-color: #f0f8ff;border: 1px dotted black;border-radius: 0.25em;box-sizing: border-box;margin-bottom: 0.5em;}#sk-container-id-2 div.sk-estimator:hover {background-color: #d4ebff;}#sk-container-id-2 div.sk-parallel-item::after {content: \"\";width: 100%;border-bottom: 1px solid gray;flex-grow: 1;}#sk-container-id-2 div.sk-label:hover label.sk-toggleable__label {background-color: #d4ebff;}#sk-container-id-2 div.sk-serial::before {content: \"\";position: absolute;border-left: 1px solid gray;box-sizing: border-box;top: 0;bottom: 0;left: 50%;z-index: 0;}#sk-container-id-2 div.sk-serial {display: flex;flex-direction: column;align-items: center;background-color: white;padding-right: 0.2em;padding-left: 0.2em;position: relative;}#sk-container-id-2 div.sk-item {position: relative;z-index: 1;}#sk-container-id-2 div.sk-parallel {display: flex;align-items: stretch;justify-content: center;background-color: white;position: relative;}#sk-container-id-2 div.sk-item::before, #sk-container-id-2 div.sk-parallel-item::before {content: \"\";position: absolute;border-left: 1px solid gray;box-sizing: border-box;top: 0;bottom: 0;left: 50%;z-index: -1;}#sk-container-id-2 div.sk-parallel-item {display: flex;flex-direction: column;z-index: 1;position: relative;background-color: white;}#sk-container-id-2 div.sk-parallel-item:first-child::after {align-self: flex-end;width: 50%;}#sk-container-id-2 div.sk-parallel-item:last-child::after {align-self: flex-start;width: 50%;}#sk-container-id-2 div.sk-parallel-item:only-child::after {width: 0;}#sk-container-id-2 div.sk-dashed-wrapped {border: 1px dashed gray;margin: 0 0.4em 0.5em 0.4em;box-sizing: border-box;padding-bottom: 0.4em;background-color: white;}#sk-container-id-2 div.sk-label label {font-family: monospace;font-weight: bold;display: inline-block;line-height: 1.2em;}#sk-container-id-2 div.sk-label-container {text-align: center;}#sk-container-id-2 div.sk-container {/* jupyter's `normalize.less` sets `[hidden] { display: none; }` but bootstrap.min.css set `[hidden] { display: none !important; }` so we also need the `!important` here to be able to override the default hidden behavior on the sphinx rendered scikit-learn.org. See: https://github.com/scikit-learn/scikit-learn/issues/21755 */display: inline-block !important;position: relative;}#sk-container-id-2 div.sk-text-repr-fallback {display: none;}</style><div id=\"sk-container-id-2\" class=\"sk-top-container\"><div class=\"sk-text-repr-fallback\"><pre>RandomForestRegressor(random_state=1)</pre><b>In a Jupyter environment, please rerun this cell to show the HTML representation or trust the notebook. <br />On GitHub, the HTML representation is unable to render, please try loading this page with nbviewer.org.</b></div><div class=\"sk-container\" hidden><div class=\"sk-item\"><div class=\"sk-estimator sk-toggleable\"><input class=\"sk-toggleable__control sk-hidden--visually\" id=\"sk-estimator-id-2\" type=\"checkbox\" checked><label for=\"sk-estimator-id-2\" class=\"sk-toggleable__label sk-toggleable__label-arrow\">RandomForestRegressor</label><div class=\"sk-toggleable__content\"><pre>RandomForestRegressor(random_state=1)</pre></div></div></div></div></div>"
      ],
      "text/plain": [
       "RandomForestRegressor(random_state=1)"
      ]
     },
     "execution_count": 19,
     "metadata": {},
     "output_type": "execute_result"
    }
   ],
   "source": [
    "from sklearn.ensemble import RandomForestRegressor,GradientBoostingRegressor\n",
    "\n",
    "rf_model = RandomForestRegressor(random_state=1)\n",
    "rf_model.fit(X_train,Y_train)"
   ]
  },
  {
   "cell_type": "code",
   "execution_count": 20,
   "id": "c8748bf9",
   "metadata": {},
   "outputs": [
    {
     "data": {
      "text/plain": [
       "array([271690.        , 155039.        , 122024.        , 188915.        ,\n",
       "        91147.        ,  88533.2       , 240518.24      , 126286.        ,\n",
       "       624269.12      , 174312.25333333, 209138.46      , 147714.5       ,\n",
       "       233088.25      , 123139.5       , 140503.75      , 139187.        ,\n",
       "       232538.3       , 134260.        , 145952.24      , 130562.05      ,\n",
       "       129304.53      , 147179.68333333, 112355.46      , 183320.22      ,\n",
       "       153926.5       , 182853.57      , 176891.        ,  86320.        ,\n",
       "       308784.98      , 112746.        , 141734.5       , 190094.        ,\n",
       "       124460.65      , 280081.94      , 317780.6       , 179756.65      ,\n",
       "       218512.64      , 118609.16      , 224329.28      , 304517.56      ,\n",
       "       229449.        , 141422.15333333, 186872.35      , 302902.86      ,\n",
       "       316105.83      , 139820.        , 105783.66      , 127933.25      ,\n",
       "       165361.5       , 118615.5       , 314806.34      , 145952.75      ,\n",
       "       168104.74      , 104321.5       , 230903.86      , 104475.43      ,\n",
       "       127073.67      , 220962.32      , 134331.        , 103772.        ,\n",
       "       142472.        , 121159.87      , 137172.        , 157535.82      ,\n",
       "       238317.89      , 153370.5       , 132462.5       , 213296.08      ,\n",
       "       100501.15      , 207034.3       , 176922.95      , 115179.73      ,\n",
       "       119145.26      , 219613.93      , 119071.64      , 265884.02      ,\n",
       "       139592.5       ,  91393.        , 321720.78      , 153696.5       ,\n",
       "       132748.475     , 129206.4       , 129056.76      , 136215.        ,\n",
       "       239858.7       , 190044.01      , 111229.25      , 202547.9       ,\n",
       "       198464.88      , 128236.25      , 190444.2       , 178476.64      ,\n",
       "       185386.89      , 232633.33      , 183443.15      , 131355.5       ,\n",
       "       209776.78      , 170974.28      , 107571.81      , 130849.75      ,\n",
       "       307472.63      , 212417.15      , 153752.        , 153535.        ,\n",
       "        70977.11      , 291051.58      , 142023.33333333, 113776.36      ,\n",
       "       177632.55      , 121039.91      ,  64540.        , 132775.5       ,\n",
       "       200129.96      , 109796.        , 171477.1       , 141303.34      ,\n",
       "       379344.92      , 130431.        , 199257.        , 239009.08      ,\n",
       "       152198.33333333, 166299.03333333, 132312.        , 193673.        ,\n",
       "       228011.78      , 225480.27      , 370579.67      , 193699.5       ,\n",
       "       194058.35      , 181778.        , 186968.5       , 185745.14      ,\n",
       "       185633.        , 184546.        , 122533.5       , 251232.12      ,\n",
       "       130596.        , 188093.48      , 109434.16      , 185338.        ,\n",
       "       147235.64      , 148487.59      , 250170.        , 145917.68      ,\n",
       "       175268.        , 183785.24      , 229497.98      , 129091.25      ,\n",
       "       282253.66      , 224047.6       , 160011.        , 313718.39      ,\n",
       "       325897.47      , 131110.        , 137479.08      , 228547.92      ,\n",
       "       118973.        , 161729.5       , 149790.8       , 171744.4       ,\n",
       "       125462.1       , 148795.        , 185586.87      , 124288.125     ,\n",
       "       238657.47      , 146472.        , 153023.        , 320900.5       ,\n",
       "       192521.4       , 182268.9       , 163439.22      , 148931.38      ,\n",
       "       203741.04      , 169334.        , 142891.        , 102440.22      ,\n",
       "       129055.68333333, 236459.34      , 108644.28      , 151078.75      ,\n",
       "       199199.        , 172884.5       ,  85111.        , 296611.27      ,\n",
       "       116079.61      , 171556.        ,  88496.58333333, 193473.12      ,\n",
       "       215577.88      , 144093.3       , 134260.        , 137337.        ,\n",
       "       224150.43      , 138055.76      ,  97310.54      , 145669.5       ,\n",
       "        81912.        , 137045.5       , 164732.        , 123940.02      ,\n",
       "       145236.5       , 167402.72      , 100698.5       , 145294.01333333,\n",
       "       132062.87      , 217393.74      , 151816.74      , 249703.        ,\n",
       "       299828.97      ,  75675.8       , 154440.        , 271423.38      ,\n",
       "        99958.87      ,  87986.        , 256185.        , 231986.2       ,\n",
       "       179809.        , 277414.28      , 264852.73      ,  85421.83333333,\n",
       "       194202.        , 171716.        , 143236.46      , 123673.5       ,\n",
       "       196354.7       , 234169.6       , 213669.54      , 269384.        ,\n",
       "       138126.55333333, 181447.5       ,  99184.87      ,  92297.11      ,\n",
       "       122577.5       , 148620.        , 232536.4       , 136200.04      ,\n",
       "       156913.24      , 103420.8       , 127298.        , 170366.5       ,\n",
       "       106606.04      , 195612.15      , 229462.21      , 223218.78      ,\n",
       "       165259.5       , 128302.625     , 176544.86742857, 182924.17      ,\n",
       "       111784.5       , 181067.54      , 159068.32      , 261360.9       ,\n",
       "        87746.14      , 357532.72      , 210126.86      , 278566.06      ,\n",
       "        98601.94      , 236282.46      , 383697.98      , 452103.49      ,\n",
       "       143236.65      , 156256.75      , 172705.5       , 121778.41      ,\n",
       "       427192.36      , 322220.05      , 239785.4       ,  73976.22      ,\n",
       "       171058.        , 307708.33      , 145679.18      , 187698.79      ,\n",
       "       134249.5       , 198488.7       , 128103.5       , 226360.48      ,\n",
       "       204146.        , 169714.37      , 218699.45      , 116743.        ,\n",
       "       126018.5       , 361240.09      , 157760.25      , 134607.36      ,\n",
       "       206879.31      , 221064.        , 100056.17857143, 275931.87      ,\n",
       "       478954.15      , 176038.        ,  78096.        ,  81104.        ])"
      ]
     },
     "execution_count": 20,
     "metadata": {},
     "output_type": "execute_result"
    }
   ],
   "source": [
    "rf_val_preds = rf_model.predict(X_valid)\n",
    "rf_val_preds"
   ]
  },
  {
   "cell_type": "code",
   "execution_count": 21,
   "id": "3f66a798",
   "metadata": {},
   "outputs": [
    {
     "data": {
      "text/plain": [
       "array([271690., 155039., 122024., 188915.,  91147.])"
      ]
     },
     "execution_count": 21,
     "metadata": {},
     "output_type": "execute_result"
    }
   ],
   "source": [
    "rf_val_preds[:5]"
   ]
  },
  {
   "cell_type": "markdown",
   "id": "389821b8",
   "metadata": {},
   "source": [
    "## Predict with a new input"
   ]
  },
  {
   "cell_type": "code",
   "execution_count": 22,
   "id": "08452a62",
   "metadata": {},
   "outputs": [
    {
     "data": {
      "text/html": [
       "<div>\n",
       "<style scoped>\n",
       "    .dataframe tbody tr th:only-of-type {\n",
       "        vertical-align: middle;\n",
       "    }\n",
       "\n",
       "    .dataframe tbody tr th {\n",
       "        vertical-align: top;\n",
       "    }\n",
       "\n",
       "    .dataframe thead th {\n",
       "        text-align: right;\n",
       "    }\n",
       "</style>\n",
       "<table border=\"1\" class=\"dataframe\">\n",
       "  <thead>\n",
       "    <tr style=\"text-align: right;\">\n",
       "      <th></th>\n",
       "      <th>LotArea</th>\n",
       "      <th>YearBuilt</th>\n",
       "      <th>1stFlrSF</th>\n",
       "      <th>2ndFlrSF</th>\n",
       "      <th>FullBath</th>\n",
       "      <th>BedroomAbvGr</th>\n",
       "      <th>TotRmsAbvGrd</th>\n",
       "    </tr>\n",
       "    <tr>\n",
       "      <th>Id</th>\n",
       "      <th></th>\n",
       "      <th></th>\n",
       "      <th></th>\n",
       "      <th></th>\n",
       "      <th></th>\n",
       "      <th></th>\n",
       "      <th></th>\n",
       "    </tr>\n",
       "  </thead>\n",
       "  <tbody>\n",
       "    <tr>\n",
       "      <th>530</th>\n",
       "      <td>32668</td>\n",
       "      <td>1957</td>\n",
       "      <td>2515</td>\n",
       "      <td>0</td>\n",
       "      <td>3</td>\n",
       "      <td>4</td>\n",
       "      <td>9</td>\n",
       "    </tr>\n",
       "    <tr>\n",
       "      <th>492</th>\n",
       "      <td>9490</td>\n",
       "      <td>1941</td>\n",
       "      <td>958</td>\n",
       "      <td>620</td>\n",
       "      <td>1</td>\n",
       "      <td>3</td>\n",
       "      <td>5</td>\n",
       "    </tr>\n",
       "    <tr>\n",
       "      <th>460</th>\n",
       "      <td>7015</td>\n",
       "      <td>1950</td>\n",
       "      <td>979</td>\n",
       "      <td>224</td>\n",
       "      <td>1</td>\n",
       "      <td>3</td>\n",
       "      <td>5</td>\n",
       "    </tr>\n",
       "    <tr>\n",
       "      <th>280</th>\n",
       "      <td>10005</td>\n",
       "      <td>1977</td>\n",
       "      <td>1156</td>\n",
       "      <td>866</td>\n",
       "      <td>2</td>\n",
       "      <td>4</td>\n",
       "      <td>8</td>\n",
       "    </tr>\n",
       "    <tr>\n",
       "      <th>656</th>\n",
       "      <td>1680</td>\n",
       "      <td>1971</td>\n",
       "      <td>525</td>\n",
       "      <td>567</td>\n",
       "      <td>1</td>\n",
       "      <td>3</td>\n",
       "      <td>6</td>\n",
       "    </tr>\n",
       "  </tbody>\n",
       "</table>\n",
       "</div>"
      ],
      "text/plain": [
       "     LotArea  YearBuilt  1stFlrSF  2ndFlrSF  FullBath  BedroomAbvGr  \\\n",
       "Id                                                                    \n",
       "530    32668       1957      2515         0         3             4   \n",
       "492     9490       1941       958       620         1             3   \n",
       "460     7015       1950       979       224         1             3   \n",
       "280    10005       1977      1156       866         2             4   \n",
       "656     1680       1971       525       567         1             3   \n",
       "\n",
       "     TotRmsAbvGrd  \n",
       "Id                 \n",
       "530             9  \n",
       "492             5  \n",
       "460             5  \n",
       "280             8  \n",
       "656             6  "
      ]
     },
     "execution_count": 22,
     "metadata": {},
     "output_type": "execute_result"
    }
   ],
   "source": [
    "X_valid.head()"
   ]
  },
  {
   "cell_type": "code",
   "execution_count": 25,
   "id": "417ff83f",
   "metadata": {},
   "outputs": [
    {
     "name": "stderr",
     "output_type": "stream",
     "text": [
      "D:\\DATA_SCIENCE\\IDE\\lib\\site-packages\\sklearn\\base.py:420: UserWarning: X does not have valid feature names, but RandomForestRegressor was fitted with feature names\n",
      "  warnings.warn(\n"
     ]
    },
    {
     "data": {
      "text/plain": [
       "array([166442.33])"
      ]
     },
     "execution_count": 25,
     "metadata": {},
     "output_type": "execute_result"
    }
   ],
   "source": [
    "rf_model.predict([[9838,1992,542,555,3,2,7]])"
   ]
  },
  {
   "cell_type": "code",
   "execution_count": 29,
   "id": "12112498",
   "metadata": {},
   "outputs": [
    {
     "name": "stdout",
     "output_type": "stream",
     "text": [
      "Giá nhà dự đoán:  [142455.70752381]\n"
     ]
    },
    {
     "name": "stderr",
     "output_type": "stream",
     "text": [
      "D:\\DATA_SCIENCE\\IDE\\lib\\site-packages\\sklearn\\base.py:420: UserWarning: X does not have valid feature names, but RandomForestRegressor was fitted with feature names\n",
      "  warnings.warn(\n"
     ]
    }
   ],
   "source": [
    "import numpy as np\n",
    "\n",
    "# Tạo một numpy array chứa thông tin về căn nhà mới\n",
    "# Ví dụ: diện tích = 150m2, năm xây dựng = 2010, số phòng ngủ = 3, số phòng vệ sinh = 2,\n",
    "# khu vực = 1 (Thành phố Hồ Chí Minh), loại hình căn hộ = 2 (căn hộ cao cấp),\n",
    "# trang thiết bị = 4 (đầy đủ nội thất), hướng nhà = 3 (Đông Nam)\n",
    "new_house = np.array([[150, 2010, 3, 2, 1, 2, 3]])\n",
    "\n",
    "# Dự đoán giá nhà mới sử dụng mô hình rf_model\n",
    "predicted_price = rf_model.predict(new_house)\n",
    "\n",
    "# In kết quả dự đoán giá nhà mới\n",
    "print(\"Giá nhà dự đoán: \", predicted_price)\n"
   ]
  },
  {
   "cell_type": "code",
   "execution_count": 30,
   "id": "fe52e900",
   "metadata": {},
   "outputs": [
    {
     "name": "stdout",
     "output_type": "stream",
     "text": [
      "LotArea9000\n",
      "YearBuilt: 1000\n",
      "1stFlrSF: 542\n",
      "2ndFlrSF: 555\n",
      "FullBath: 6\n",
      "BedroomAbvGr: 4\n",
      "TotRmsAbvGrd: 8\n",
      "Giá nhà dự đoán: $89,579.00\n"
     ]
    },
    {
     "name": "stderr",
     "output_type": "stream",
     "text": [
      "D:\\DATA_SCIENCE\\IDE\\lib\\site-packages\\sklearn\\base.py:420: UserWarning: X does not have valid feature names, but RandomForestRegressor was fitted with feature names\n",
      "  warnings.warn(\n"
     ]
    }
   ],
   "source": [
    "X_input = []\n",
    "\n",
    "\n",
    "sqft = float(input(\"LotArea: \"))\n",
    "X_input.append(sqft)\n",
    "\n",
    "# Yêu cầu người dùng nhập năm xây dựng\n",
    "yr_built = int(input(\"YearBuilt: \"))\n",
    "X_input.append(yr_built)\n",
    "\n",
    "\n",
    "One = int(input(\"1stFlrSF: \"))\n",
    "X_input.append(One)\n",
    "\n",
    "\n",
    "TowOne = float(input(\"2ndFlrSF: \"))\n",
    "X_input.append(TowOne)\n",
    "\n",
    "\n",
    "F = int(input(\"FullBath: \"))\n",
    "X_input.append(F)\n",
    "\n",
    "\n",
    "B = int(input(\"BedroomAbvGr: \"))\n",
    "X_input.append(B)\n",
    "\n",
    "\n",
    "T = int(input(\"TotRmsAbvGrd: \"))\n",
    "X_input.append(T)\n",
    "\n",
    "# Sử dụng mô hình để dự đoán giá nhà\n",
    "price = rf_model.predict([X_input])\n",
    "\n",
    "# Hiển thị kết quả dự đoán giá nhà\n",
    "print(\"Giá nhà dự đoán: ${:,.2f}\".format(price[0]))\n"
   ]
  },
  {
   "cell_type": "code",
   "execution_count": null,
   "id": "3cc73b8b",
   "metadata": {},
   "outputs": [],
   "source": []
  }
 ],
 "metadata": {
  "kernelspec": {
   "display_name": "Python 3 (ipykernel)",
   "language": "python",
   "name": "python3"
  },
  "language_info": {
   "codemirror_mode": {
    "name": "ipython",
    "version": 3
   },
   "file_extension": ".py",
   "mimetype": "text/x-python",
   "name": "python",
   "nbconvert_exporter": "python",
   "pygments_lexer": "ipython3",
   "version": "3.10.9"
  }
 },
 "nbformat": 4,
 "nbformat_minor": 5
}
